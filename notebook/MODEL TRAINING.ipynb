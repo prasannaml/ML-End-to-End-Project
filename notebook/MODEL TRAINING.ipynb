{
 "cells": [
  {
   "attachments": {},
   "cell_type": "markdown",
   "metadata": {},
   "source": [
    "## MODEL TRAINING\n",
    " Model objective: Predict math score based on dataset variables.\n",
    " \n",
    "\n",
    "Import libraries for model training"
   ]
  },
  {
   "cell_type": "code",
   "execution_count": 2,
   "metadata": {},
   "outputs": [],
   "source": [
    "# Basic Import\n",
    "import numpy as np\n",
    "import pandas as pd\n",
    "import matplotlib.pyplot as plt \n",
    "import seaborn as sns\n",
    "# Modelling\n",
    "from sklearn.metrics import mean_squared_error, r2_score\n",
    "from sklearn.neighbors import KNeighborsRegressor\n",
    "from sklearn.tree import DecisionTreeRegressor\n",
    "from sklearn.ensemble import RandomForestRegressor,AdaBoostRegressor\n",
    "from sklearn.svm import SVR\n",
    "from sklearn.linear_model import LinearRegression, Ridge,Lasso\n",
    "from sklearn.metrics import r2_score, mean_absolute_error, mean_squared_error\n",
    "from sklearn.model_selection import RandomizedSearchCV\n",
    "from catboost import CatBoostRegressor\n",
    "from xgboost import XGBRegressor\n",
    "import warnings\n"
   ]
  },
  {
   "cell_type": "code",
   "execution_count": 4,
   "metadata": {},
   "outputs": [],
   "source": [
    "df = pd.read_csv('data/stud.csv')"
   ]
  },
  {
   "cell_type": "code",
   "execution_count": 5,
   "metadata": {},
   "outputs": [
    {
     "data": {
      "text/html": [
       "<div>\n",
       "<style scoped>\n",
       "    .dataframe tbody tr th:only-of-type {\n",
       "        vertical-align: middle;\n",
       "    }\n",
       "\n",
       "    .dataframe tbody tr th {\n",
       "        vertical-align: top;\n",
       "    }\n",
       "\n",
       "    .dataframe thead th {\n",
       "        text-align: right;\n",
       "    }\n",
       "</style>\n",
       "<table border=\"1\" class=\"dataframe\">\n",
       "  <thead>\n",
       "    <tr style=\"text-align: right;\">\n",
       "      <th></th>\n",
       "      <th>gender</th>\n",
       "      <th>race_ethnicity</th>\n",
       "      <th>parental_level_of_education</th>\n",
       "      <th>lunch</th>\n",
       "      <th>test_preparation_course</th>\n",
       "      <th>reading_score</th>\n",
       "      <th>writing_score</th>\n",
       "    </tr>\n",
       "  </thead>\n",
       "  <tbody>\n",
       "    <tr>\n",
       "      <th>0</th>\n",
       "      <td>female</td>\n",
       "      <td>group B</td>\n",
       "      <td>bachelor's degree</td>\n",
       "      <td>standard</td>\n",
       "      <td>none</td>\n",
       "      <td>72</td>\n",
       "      <td>74</td>\n",
       "    </tr>\n",
       "    <tr>\n",
       "      <th>1</th>\n",
       "      <td>female</td>\n",
       "      <td>group C</td>\n",
       "      <td>some college</td>\n",
       "      <td>standard</td>\n",
       "      <td>completed</td>\n",
       "      <td>90</td>\n",
       "      <td>88</td>\n",
       "    </tr>\n",
       "    <tr>\n",
       "      <th>2</th>\n",
       "      <td>female</td>\n",
       "      <td>group B</td>\n",
       "      <td>master's degree</td>\n",
       "      <td>standard</td>\n",
       "      <td>none</td>\n",
       "      <td>95</td>\n",
       "      <td>93</td>\n",
       "    </tr>\n",
       "    <tr>\n",
       "      <th>3</th>\n",
       "      <td>male</td>\n",
       "      <td>group A</td>\n",
       "      <td>associate's degree</td>\n",
       "      <td>free/reduced</td>\n",
       "      <td>none</td>\n",
       "      <td>57</td>\n",
       "      <td>44</td>\n",
       "    </tr>\n",
       "    <tr>\n",
       "      <th>4</th>\n",
       "      <td>male</td>\n",
       "      <td>group C</td>\n",
       "      <td>some college</td>\n",
       "      <td>standard</td>\n",
       "      <td>none</td>\n",
       "      <td>78</td>\n",
       "      <td>75</td>\n",
       "    </tr>\n",
       "  </tbody>\n",
       "</table>\n",
       "</div>"
      ],
      "text/plain": [
       "   gender race_ethnicity parental_level_of_education         lunch  \\\n",
       "0  female        group B           bachelor's degree      standard   \n",
       "1  female        group C                some college      standard   \n",
       "2  female        group B             master's degree      standard   \n",
       "3    male        group A          associate's degree  free/reduced   \n",
       "4    male        group C                some college      standard   \n",
       "\n",
       "  test_preparation_course  reading_score  writing_score  \n",
       "0                    none             72             74  \n",
       "1               completed             90             88  \n",
       "2                    none             95             93  \n",
       "3                    none             57             44  \n",
       "4                    none             78             75  "
      ]
     },
     "execution_count": 5,
     "metadata": {},
     "output_type": "execute_result"
    }
   ],
   "source": [
    "# create predictors data set\n",
    "X = df.drop(columns=['math_score'],axis=1 ) # axis = 1 for column(col wise operation) , axis=0 for index (row wise ioperation)\n",
    "X.head()"
   ]
  },
  {
   "cell_type": "code",
   "execution_count": 6,
   "metadata": {},
   "outputs": [],
   "source": [
    "# create target variable \n",
    "Y=df['math_score']"
   ]
  },
  {
   "cell_type": "code",
   "execution_count": 7,
   "metadata": {},
   "outputs": [
    {
     "data": {
      "text/plain": [
       "0    72\n",
       "1    69\n",
       "2    90\n",
       "3    47\n",
       "4    76\n",
       "Name: math_score, dtype: int64"
      ]
     },
     "execution_count": 7,
     "metadata": {},
     "output_type": "execute_result"
    }
   ],
   "source": [
    "Y.head()"
   ]
  },
  {
   "cell_type": "code",
   "execution_count": 18,
   "metadata": {},
   "outputs": [
    {
     "data": {
      "text/plain": [
       "gender                         object\n",
       "race_ethnicity                 object\n",
       "parental_level_of_education    object\n",
       "lunch                          object\n",
       "test_preparation_course        object\n",
       "reading_score                   int64\n",
       "writing_score                   int64\n",
       "dtype: object"
      ]
     },
     "execution_count": 18,
     "metadata": {},
     "output_type": "execute_result"
    }
   ],
   "source": [
    "X.dtypes"
   ]
  },
  {
   "cell_type": "code",
   "execution_count": 25,
   "metadata": {},
   "outputs": [],
   "source": [
    "# Separate pipelines for  numerical and categorical columns\n",
    "\n",
    "num_features = X.select_dtypes(exclude='object').columns\n",
    "cat_features = X.select_dtypes(include='object').columns\n",
    "\n"
   ]
  },
  {
   "cell_type": "code",
   "execution_count": 56,
   "metadata": {},
   "outputs": [
    {
     "name": "stdout",
     "output_type": "stream",
     "text": [
      "<class 'pandas.core.frame.DataFrame'>\n",
      "RangeIndex: 1000 entries, 0 to 999\n",
      "Data columns (total 7 columns):\n",
      " #   Column                       Non-Null Count  Dtype \n",
      "---  ------                       --------------  ----- \n",
      " 0   gender                       1000 non-null   object\n",
      " 1   race_ethnicity               1000 non-null   object\n",
      " 2   parental_level_of_education  1000 non-null   object\n",
      " 3   lunch                        1000 non-null   object\n",
      " 4   test_preparation_course      1000 non-null   object\n",
      " 5   reading_score                1000 non-null   int64 \n",
      " 6   writing_score                1000 non-null   int64 \n",
      "dtypes: int64(2), object(5)\n",
      "memory usage: 54.8+ KB\n"
     ]
    }
   ],
   "source": [
    "X.info()\n",
    "\n",
    "\n",
    "\n"
   ]
  },
  {
   "cell_type": "code",
   "execution_count": 57,
   "metadata": {},
   "outputs": [
    {
     "data": {
      "text/plain": [
       "(1000, 7)"
      ]
     },
     "execution_count": 57,
     "metadata": {},
     "output_type": "execute_result"
    }
   ],
   "source": [
    "X.shape "
   ]
  },
  {
   "cell_type": "code",
   "execution_count": 27,
   "metadata": {},
   "outputs": [
    {
     "data": {
      "text/plain": [
       "Index(['gender', 'race_ethnicity', 'parental_level_of_education', 'lunch',\n",
       "       'test_preparation_course'],\n",
       "      dtype='object')"
      ]
     },
     "execution_count": 27,
     "metadata": {},
     "output_type": "execute_result"
    }
   ],
   "source": [
    "cat_features"
   ]
  },
  {
   "cell_type": "code",
   "execution_count": 59,
   "metadata": {},
   "outputs": [
    {
     "data": {
      "text/plain": [
       "((800, 7), (200, 7), (800,), (200,))"
      ]
     },
     "execution_count": 59,
     "metadata": {},
     "output_type": "execute_result"
    }
   ],
   "source": [
    "#train test spilt 80/20\n",
    "from sklearn.model_selection import train_test_split\n",
    "X_train, X_test, Y_train, Y_test = train_test_split(X,Y,test_size=0.2,random_state=42)\n",
    "X_train.shape, X_test.shape,Y_train.shape,Y_test.shape"
   ]
  },
  {
   "cell_type": "code",
   "execution_count": 60,
   "metadata": {},
   "outputs": [
    {
     "data": {
      "text/plain": [
       "<bound method NDFrame.head of 29     62\n",
       "535    66\n",
       "695    79\n",
       "557    61\n",
       "836    73\n",
       "       ..\n",
       "106    87\n",
       "270    69\n",
       "860    53\n",
       "435    50\n",
       "102    85\n",
       "Name: math_score, Length: 800, dtype: int64>"
      ]
     },
     "execution_count": 60,
     "metadata": {},
     "output_type": "execute_result"
    }
   ],
   "source": []
  },
  {
   "cell_type": "code",
   "execution_count": 31,
   "metadata": {},
   "outputs": [],
   "source": [
    "#preprocess \n",
    "from sklearn.preprocessing import OneHotEncoder, StandardScaler\n",
    "from sklearn.compose import ColumnTransformer\n",
    "\n",
    "numeric_transformer = StandardScaler()\n",
    "ohe_transformer = OneHotEncoder()\n",
    "\n",
    "preprocessor = ColumnTransformer(\n",
    "    [\n",
    "        (\"OneHotEncoder\", ohe_transformer, cat_features),\n",
    "         (\"StandardScaler\", numeric_transformer, num_features),        \n",
    "    ]\n",
    ")"
   ]
  },
  {
   "cell_type": "code",
   "execution_count": 71,
   "metadata": {},
   "outputs": [],
   "source": [
    "# VARIABLE TRANSFORM MODEL FOR TRAIN AND TEST VARIABLES\n",
    "Preprocess_model=preprocessor.fit(X_train)\n",
    "\n"
   ]
  },
  {
   "cell_type": "code",
   "execution_count": 78,
   "metadata": {},
   "outputs": [],
   "source": [
    "#transform X_train and X_test on \n",
    "X_train_transformed = Preprocess_model.transform(X_train)\n",
    "X_test_transformed = Preprocess_model.transform(X_test)"
   ]
  },
  {
   "cell_type": "code",
   "execution_count": 82,
   "metadata": {},
   "outputs": [],
   "source": [
    "##  MODEL EVALUATION METRICS\n",
    "\n",
    "#mae,rmse,rsquare\n",
    "\n",
    "def evaluate_model(true,predicted):\n",
    "    mae=mean_absolute_error(true,predicted)\n",
    "    rmse= np.sqrt(mean_squared_error(true,predicted))\n",
    "    r2 = r2_score(true,predicted)\n",
    "    return mae,rmse,r2"
   ]
  },
  {
   "cell_type": "code",
   "execution_count": 86,
   "metadata": {},
   "outputs": [
    {
     "name": "stdout",
     "output_type": "stream",
     "text": [
      "Linear Regression\n",
      "MODEL PERFORMANCE FOR TRAINING SET\n",
      "- MAE : 4.2687 \n",
      "- RMSE : 5.3250 \n",
      "- R2: 0.8742 \n",
      "-----------------------------------\n",
      "MODEL PERFORMANCE FOR TEST SET\n",
      "- MAE : 4.2335 \n",
      "- RMSE : 5.4201 \n",
      "- R2: 0.8793 \n",
      "===================================\n",
      "\n",
      "\n",
      "Lasso\n",
      "MODEL PERFORMANCE FOR TRAINING SET\n",
      "- MAE : 5.2053 \n",
      "- RMSE : 6.5925 \n",
      "- R2: 0.8072 \n",
      "-----------------------------------\n",
      "MODEL PERFORMANCE FOR TEST SET\n",
      "- MAE : 5.1557 \n",
      "- RMSE : 6.5173 \n",
      "- R2: 0.8254 \n",
      "===================================\n",
      "\n",
      "\n",
      "Ridge\n",
      "MODEL PERFORMANCE FOR TRAINING SET\n",
      "- MAE : 4.2650 \n",
      "- RMSE : 5.3233 \n",
      "- R2: 0.8743 \n",
      "-----------------------------------\n",
      "MODEL PERFORMANCE FOR TEST SET\n",
      "- MAE : 4.2111 \n",
      "- RMSE : 5.3904 \n",
      "- R2: 0.8806 \n",
      "===================================\n",
      "\n",
      "\n",
      "KNN\n",
      "MODEL PERFORMANCE FOR TRAINING SET\n",
      "- MAE : 4.5025 \n",
      "- RMSE : 5.6941 \n",
      "- R2: 0.8562 \n",
      "-----------------------------------\n",
      "MODEL PERFORMANCE FOR TEST SET\n",
      "- MAE : 5.5840 \n",
      "- RMSE : 7.2148 \n",
      "- R2: 0.7861 \n",
      "===================================\n",
      "\n",
      "\n",
      "Decision Tree\n",
      "MODEL PERFORMANCE FOR TRAINING SET\n",
      "- MAE : 0.0187 \n",
      "- RMSE : 0.2795 \n",
      "- R2: 0.9997 \n",
      "-----------------------------------\n",
      "MODEL PERFORMANCE FOR TEST SET\n",
      "- MAE : 6.4250 \n",
      "- RMSE : 8.0551 \n",
      "- R2: 0.7334 \n",
      "===================================\n",
      "\n",
      "\n",
      "Random Forest\n",
      "MODEL PERFORMANCE FOR TRAINING SET\n",
      "- MAE : 1.8426 \n",
      "- RMSE : 2.3281 \n",
      "- R2: 0.9760 \n",
      "-----------------------------------\n",
      "MODEL PERFORMANCE FOR TEST SET\n",
      "- MAE : 4.6781 \n",
      "- RMSE : 6.0664 \n",
      "- R2: 0.8488 \n",
      "===================================\n",
      "\n",
      "\n",
      "XGB\n",
      "MODEL PERFORMANCE FOR TRAINING SET\n",
      "- MAE : 0.6875 \n",
      "- RMSE : 1.0073 \n",
      "- R2: 0.9955 \n",
      "-----------------------------------\n",
      "MODEL PERFORMANCE FOR TEST SET\n",
      "- MAE : 5.0577 \n",
      "- RMSE : 6.4733 \n",
      "- R2: 0.8278 \n",
      "===================================\n",
      "\n",
      "\n",
      "Catboost\n",
      "MODEL PERFORMANCE FOR TRAINING SET\n",
      "- MAE : 2.4054 \n",
      "- RMSE : 3.0427 \n",
      "- R2: 0.9589 \n",
      "-----------------------------------\n",
      "MODEL PERFORMANCE FOR TEST SET\n",
      "- MAE : 4.6088 \n",
      "- RMSE : 6.0046 \n",
      "- R2: 0.8518 \n",
      "===================================\n",
      "\n",
      "\n",
      "AdaBoost\n",
      "MODEL PERFORMANCE FOR TRAINING SET\n",
      "- MAE : 4.8344 \n",
      "- RMSE : 5.8823 \n",
      "- R2: 0.8465 \n",
      "-----------------------------------\n",
      "MODEL PERFORMANCE FOR TEST SET\n",
      "- MAE : 4.7563 \n",
      "- RMSE : 6.1045 \n",
      "- R2: 0.8469 \n",
      "===================================\n",
      "\n",
      "\n"
     ]
    }
   ],
   "source": [
    "#models to use\n",
    "\n",
    "models = { \n",
    " \"Linear Regression\":LinearRegression(),\n",
    " \"Lasso\": Lasso(),\n",
    " \"Ridge\": Ridge(),\n",
    " \"KNN\" : KNeighborsRegressor(),\n",
    " \"Decision Tree\": DecisionTreeRegressor(),\n",
    " \"Random Forest\": RandomForestRegressor(),\n",
    " \"XGB\":XGBRegressor(),\n",
    " \"Catboost\":CatBoostRegressor(verbose=False),\n",
    " \"AdaBoost\":AdaBoostRegressor()\n",
    "}\n",
    "\n",
    "model_list=[]\n",
    "r2_list=[]\n",
    "mae_list=[]\n",
    "rmse_list=[]\n",
    "\n",
    "\n",
    "for i in range(len(models)):\n",
    "    #train\n",
    "    model=list(models.values())[i]\n",
    "    model.fit(X_train_transformed,Y_train)\n",
    "    \n",
    "    #Predict\n",
    "    y_train_pred = model.predict(X_train_transformed)\n",
    "    y_test_pred  = model.predict(X_test_transformed) \n",
    "    \n",
    "    # Evaluate\n",
    "    train_mae,train_rmse,train_r2 = evaluate_model(Y_train,y_train_pred)\n",
    "    test_mae,test_rmse,test_r2 = evaluate_model(Y_test,y_test_pred)\n",
    "\n",
    "    print(list(models.keys())[i])\n",
    "    model_list.append(list(models.keys())[i])\n",
    "\n",
    "    print('MODEL PERFORMANCE FOR TRAINING SET')\n",
    "    print(\"- MAE : {:.4f} \".format(train_mae))\n",
    "    print(\"- RMSE : {:.4f} \".format(train_rmse))\n",
    "    print(\"- R2: {:.4f} \".format(train_r2))\n",
    "    print('-'*35) \n",
    "    print('MODEL PERFORMANCE FOR TEST SET')\n",
    "    print(\"- MAE : {:.4f} \".format(test_mae))\n",
    "    print(\"- RMSE : {:.4f} \".format(test_rmse))\n",
    "    print(\"- R2: {:.4f} \".format(test_r2))\n",
    "    \n",
    "    r2_list.append(test_r2)\n",
    "    mae_list.append(test_mae)\n",
    "    rmse_list.append(test_rmse)\n",
    "\n",
    "    print('='*35)\n",
    "    print('\\n')"
   ]
  }
 ],
 "metadata": {
  "kernelspec": {
   "display_name": "Python 3",
   "language": "python",
   "name": "python3"
  },
  "language_info": {
   "codemirror_mode": {
    "name": "ipython",
    "version": 3
   },
   "file_extension": ".py",
   "mimetype": "text/x-python",
   "name": "python",
   "nbconvert_exporter": "python",
   "pygments_lexer": "ipython3",
   "version": "3.8.17"
  },
  "orig_nbformat": 4
 },
 "nbformat": 4,
 "nbformat_minor": 2
}
