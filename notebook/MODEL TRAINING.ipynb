{
 "cells": [
  {
   "attachments": {},
   "cell_type": "markdown",
   "metadata": {},
   "source": [
    "## MODEL TRAINING\n",
    " Model objective: Predict math score based on dataset variables.\n",
    " \n",
    "\n",
    "Import libraries for model training"
   ]
  },
  {
   "cell_type": "code",
   "execution_count": 149,
   "metadata": {},
   "outputs": [],
   "source": [
    "# Basic Import\n",
    "import numpy as np\n",
    "import pandas as pd\n",
    "import matplotlib.pyplot as plt \n",
    "import seaborn as sns\n",
    "import sklearn\n",
    "# Modelling\n",
    "from sklearn.metrics import mean_squared_error, r2_score\n",
    "from sklearn.neighbors import KNeighborsRegressor\n",
    "from sklearn.tree import DecisionTreeRegressor\n",
    "from sklearn.ensemble import RandomForestRegressor,AdaBoostRegressor\n",
    "from sklearn.svm import SVR\n",
    "from sklearn.linear_model import LinearRegression, Ridge,Lasso\n",
    "from sklearn.metrics import r2_score, mean_absolute_error, mean_squared_error\n",
    "from sklearn.model_selection import RandomizedSearchCV\n",
    "from catboost import CatBoostRegressor\n",
    "from xgboost import XGBRegressor\n",
    "from sklearn.linear_model import Ridge, RidgeCV, Lasso, LassoCV\n",
    "from sklearn.preprocessing import scale \n",
    "import warnings\n"
   ]
  },
  {
   "cell_type": "code",
   "execution_count": 4,
   "metadata": {},
   "outputs": [],
   "source": [
    "df = pd.read_csv('data/stud.csv')"
   ]
  },
  {
   "cell_type": "code",
   "execution_count": 5,
   "metadata": {},
   "outputs": [
    {
     "data": {
      "text/html": [
       "<div>\n",
       "<style scoped>\n",
       "    .dataframe tbody tr th:only-of-type {\n",
       "        vertical-align: middle;\n",
       "    }\n",
       "\n",
       "    .dataframe tbody tr th {\n",
       "        vertical-align: top;\n",
       "    }\n",
       "\n",
       "    .dataframe thead th {\n",
       "        text-align: right;\n",
       "    }\n",
       "</style>\n",
       "<table border=\"1\" class=\"dataframe\">\n",
       "  <thead>\n",
       "    <tr style=\"text-align: right;\">\n",
       "      <th></th>\n",
       "      <th>gender</th>\n",
       "      <th>race_ethnicity</th>\n",
       "      <th>parental_level_of_education</th>\n",
       "      <th>lunch</th>\n",
       "      <th>test_preparation_course</th>\n",
       "      <th>reading_score</th>\n",
       "      <th>writing_score</th>\n",
       "    </tr>\n",
       "  </thead>\n",
       "  <tbody>\n",
       "    <tr>\n",
       "      <th>0</th>\n",
       "      <td>female</td>\n",
       "      <td>group B</td>\n",
       "      <td>bachelor's degree</td>\n",
       "      <td>standard</td>\n",
       "      <td>none</td>\n",
       "      <td>72</td>\n",
       "      <td>74</td>\n",
       "    </tr>\n",
       "    <tr>\n",
       "      <th>1</th>\n",
       "      <td>female</td>\n",
       "      <td>group C</td>\n",
       "      <td>some college</td>\n",
       "      <td>standard</td>\n",
       "      <td>completed</td>\n",
       "      <td>90</td>\n",
       "      <td>88</td>\n",
       "    </tr>\n",
       "    <tr>\n",
       "      <th>2</th>\n",
       "      <td>female</td>\n",
       "      <td>group B</td>\n",
       "      <td>master's degree</td>\n",
       "      <td>standard</td>\n",
       "      <td>none</td>\n",
       "      <td>95</td>\n",
       "      <td>93</td>\n",
       "    </tr>\n",
       "    <tr>\n",
       "      <th>3</th>\n",
       "      <td>male</td>\n",
       "      <td>group A</td>\n",
       "      <td>associate's degree</td>\n",
       "      <td>free/reduced</td>\n",
       "      <td>none</td>\n",
       "      <td>57</td>\n",
       "      <td>44</td>\n",
       "    </tr>\n",
       "    <tr>\n",
       "      <th>4</th>\n",
       "      <td>male</td>\n",
       "      <td>group C</td>\n",
       "      <td>some college</td>\n",
       "      <td>standard</td>\n",
       "      <td>none</td>\n",
       "      <td>78</td>\n",
       "      <td>75</td>\n",
       "    </tr>\n",
       "  </tbody>\n",
       "</table>\n",
       "</div>"
      ],
      "text/plain": [
       "   gender race_ethnicity parental_level_of_education         lunch  \\\n",
       "0  female        group B           bachelor's degree      standard   \n",
       "1  female        group C                some college      standard   \n",
       "2  female        group B             master's degree      standard   \n",
       "3    male        group A          associate's degree  free/reduced   \n",
       "4    male        group C                some college      standard   \n",
       "\n",
       "  test_preparation_course  reading_score  writing_score  \n",
       "0                    none             72             74  \n",
       "1               completed             90             88  \n",
       "2                    none             95             93  \n",
       "3                    none             57             44  \n",
       "4                    none             78             75  "
      ]
     },
     "execution_count": 5,
     "metadata": {},
     "output_type": "execute_result"
    }
   ],
   "source": [
    "# create predictors data set\n",
    "X = df.drop(columns=['math_score'],axis=1 ) # axis = 1 for column(col wise operation) , axis=0 for index (row wise ioperation)\n",
    "X.head()"
   ]
  },
  {
   "cell_type": "code",
   "execution_count": 6,
   "metadata": {},
   "outputs": [],
   "source": [
    "# create target variable \n",
    "Y=df['math_score']"
   ]
  },
  {
   "cell_type": "code",
   "execution_count": 7,
   "metadata": {},
   "outputs": [
    {
     "data": {
      "text/plain": [
       "0    72\n",
       "1    69\n",
       "2    90\n",
       "3    47\n",
       "4    76\n",
       "Name: math_score, dtype: int64"
      ]
     },
     "execution_count": 7,
     "metadata": {},
     "output_type": "execute_result"
    }
   ],
   "source": [
    "Y.head()"
   ]
  },
  {
   "cell_type": "code",
   "execution_count": 18,
   "metadata": {},
   "outputs": [
    {
     "data": {
      "text/plain": [
       "gender                         object\n",
       "race_ethnicity                 object\n",
       "parental_level_of_education    object\n",
       "lunch                          object\n",
       "test_preparation_course        object\n",
       "reading_score                   int64\n",
       "writing_score                   int64\n",
       "dtype: object"
      ]
     },
     "execution_count": 18,
     "metadata": {},
     "output_type": "execute_result"
    }
   ],
   "source": [
    "X.dtypes"
   ]
  },
  {
   "cell_type": "code",
   "execution_count": 25,
   "metadata": {},
   "outputs": [],
   "source": [
    "# Separate pipelines for  numerical and categorical columns\n",
    "\n",
    "num_features = X.select_dtypes(exclude='object').columns\n",
    "cat_features = X.select_dtypes(include='object').columns\n",
    "\n"
   ]
  },
  {
   "cell_type": "code",
   "execution_count": 218,
   "metadata": {},
   "outputs": [
    {
     "data": {
      "text/plain": [
       "['reading_score', 'writing_score']"
      ]
     },
     "execution_count": 218,
     "metadata": {},
     "output_type": "execute_result"
    }
   ],
   "source": [
    "list(num_features)"
   ]
  },
  {
   "cell_type": "code",
   "execution_count": 219,
   "metadata": {},
   "outputs": [
    {
     "data": {
      "text/plain": [
       "['gender',\n",
       " 'race_ethnicity',\n",
       " 'parental_level_of_education',\n",
       " 'lunch',\n",
       " 'test_preparation_course']"
      ]
     },
     "execution_count": 219,
     "metadata": {},
     "output_type": "execute_result"
    }
   ],
   "source": [
    "list(cat_features)"
   ]
  },
  {
   "cell_type": "code",
   "execution_count": 56,
   "metadata": {},
   "outputs": [
    {
     "name": "stdout",
     "output_type": "stream",
     "text": [
      "<class 'pandas.core.frame.DataFrame'>\n",
      "RangeIndex: 1000 entries, 0 to 999\n",
      "Data columns (total 7 columns):\n",
      " #   Column                       Non-Null Count  Dtype \n",
      "---  ------                       --------------  ----- \n",
      " 0   gender                       1000 non-null   object\n",
      " 1   race_ethnicity               1000 non-null   object\n",
      " 2   parental_level_of_education  1000 non-null   object\n",
      " 3   lunch                        1000 non-null   object\n",
      " 4   test_preparation_course      1000 non-null   object\n",
      " 5   reading_score                1000 non-null   int64 \n",
      " 6   writing_score                1000 non-null   int64 \n",
      "dtypes: int64(2), object(5)\n",
      "memory usage: 54.8+ KB\n"
     ]
    }
   ],
   "source": [
    "X.info()\n",
    "\n",
    "\n",
    "\n"
   ]
  },
  {
   "cell_type": "code",
   "execution_count": 57,
   "metadata": {},
   "outputs": [
    {
     "data": {
      "text/plain": [
       "(1000, 7)"
      ]
     },
     "execution_count": 57,
     "metadata": {},
     "output_type": "execute_result"
    }
   ],
   "source": [
    "X.shape "
   ]
  },
  {
   "cell_type": "code",
   "execution_count": 27,
   "metadata": {},
   "outputs": [
    {
     "data": {
      "text/plain": [
       "Index(['gender', 'race_ethnicity', 'parental_level_of_education', 'lunch',\n",
       "       'test_preparation_course'],\n",
       "      dtype='object')"
      ]
     },
     "execution_count": 27,
     "metadata": {},
     "output_type": "execute_result"
    }
   ],
   "source": [
    "cat_features"
   ]
  },
  {
   "cell_type": "code",
   "execution_count": 59,
   "metadata": {},
   "outputs": [
    {
     "data": {
      "text/plain": [
       "((800, 7), (200, 7), (800,), (200,))"
      ]
     },
     "execution_count": 59,
     "metadata": {},
     "output_type": "execute_result"
    }
   ],
   "source": [
    "#train test spilt 80/20\n",
    "from sklearn.model_selection import train_test_split\n",
    "X_train, X_test, Y_train, Y_test = train_test_split(X,Y,test_size=0.2,random_state=42)\n",
    "X_train.shape, X_test.shape,Y_train.shape,Y_test.shape"
   ]
  },
  {
   "cell_type": "code",
   "execution_count": 60,
   "metadata": {},
   "outputs": [
    {
     "data": {
      "text/plain": [
       "<bound method NDFrame.head of 29     62\n",
       "535    66\n",
       "695    79\n",
       "557    61\n",
       "836    73\n",
       "       ..\n",
       "106    87\n",
       "270    69\n",
       "860    53\n",
       "435    50\n",
       "102    85\n",
       "Name: math_score, Length: 800, dtype: int64>"
      ]
     },
     "execution_count": 60,
     "metadata": {},
     "output_type": "execute_result"
    }
   ],
   "source": []
  },
  {
   "cell_type": "code",
   "execution_count": 189,
   "metadata": {},
   "outputs": [],
   "source": [
    "#preprocess \n",
    "from sklearn.preprocessing import OneHotEncoder, StandardScaler\n",
    "from sklearn.compose import ColumnTransformer\n",
    "\n",
    "numeric_transformer = StandardScaler()\n",
    "ohe_transformer = OneHotEncoder(drop='if_binary')\n",
    "\n",
    "preprocessor = ColumnTransformer(\n",
    "    [\n",
    "        (\"OneHotEncoder\", ohe_transformer, cat_features),\n",
    "         (\"StandardScaler\", numeric_transformer, num_features),        \n",
    "    ]\n",
    ")"
   ]
  },
  {
   "cell_type": "code",
   "execution_count": 190,
   "metadata": {},
   "outputs": [],
   "source": [
    "#transform X_train and X_test on \n",
    "X_train_transformed = preprocessor.fit_transform(X_train) # fit and transform   \n",
    "X_test_transformed = preprocessor.transform(X_test)      # using training fit model for transforming test set"
   ]
  },
  {
   "cell_type": "code",
   "execution_count": 191,
   "metadata": {},
   "outputs": [
    {
     "data": {
      "text/plain": [
       "array(['OneHotEncoder__gender_male',\n",
       "       'OneHotEncoder__race_ethnicity_group A',\n",
       "       'OneHotEncoder__race_ethnicity_group B',\n",
       "       'OneHotEncoder__race_ethnicity_group C',\n",
       "       'OneHotEncoder__race_ethnicity_group D',\n",
       "       'OneHotEncoder__race_ethnicity_group E',\n",
       "       \"OneHotEncoder__parental_level_of_education_associate's degree\",\n",
       "       \"OneHotEncoder__parental_level_of_education_bachelor's degree\",\n",
       "       'OneHotEncoder__parental_level_of_education_high school',\n",
       "       \"OneHotEncoder__parental_level_of_education_master's degree\",\n",
       "       'OneHotEncoder__parental_level_of_education_some college',\n",
       "       'OneHotEncoder__parental_level_of_education_some high school',\n",
       "       'OneHotEncoder__lunch_standard',\n",
       "       'OneHotEncoder__test_preparation_course_none',\n",
       "       'StandardScaler__reading_score', 'StandardScaler__writing_score'],\n",
       "      dtype=object)"
      ]
     },
     "execution_count": 191,
     "metadata": {},
     "output_type": "execute_result"
    }
   ],
   "source": [
    "preprocessor.get_feature_names_out()"
   ]
  },
  {
   "cell_type": "code",
   "execution_count": 194,
   "metadata": {},
   "outputs": [
    {
     "data": {
      "text/plain": [
       "(800, 16)"
      ]
     },
     "execution_count": 194,
     "metadata": {},
     "output_type": "execute_result"
    }
   ],
   "source": [
    "X_train_transformed.shape"
   ]
  },
  {
   "cell_type": "code",
   "execution_count": 195,
   "metadata": {},
   "outputs": [
    {
     "data": {
      "text/plain": [
       "array([0.        , 0.        , 0.        , 1.        , 0.        ,\n",
       "       0.        , 0.        , 1.        , 0.        , 0.        ,\n",
       "       0.        , 0.        , 0.        , 0.        , 0.9302895 ,\n",
       "       0.96470125])"
      ]
     },
     "execution_count": 195,
     "metadata": {},
     "output_type": "execute_result"
    }
   ],
   "source": [
    "X_train_transformed[1]"
   ]
  },
  {
   "cell_type": "code",
   "execution_count": 82,
   "metadata": {},
   "outputs": [],
   "source": [
    "##  MODEL EVALUATION METRICS\n",
    "\n",
    "#mae,rmse,rsquare\n",
    "\n",
    "def evaluate_model(true,predicted):\n",
    "    mae=mean_absolute_error(true,predicted)\n",
    "    rmse= np.sqrt(mean_squared_error(true,predicted))\n",
    "    r2 = r2_score(true,predicted)\n",
    "    return mae,rmse,r2"
   ]
  },
  {
   "cell_type": "code",
   "execution_count": 196,
   "metadata": {},
   "outputs": [
    {
     "name": "stdout",
     "output_type": "stream",
     "text": [
      "Linear Regression\n",
      "MODEL PERFORMANCE FOR TRAINING SET\n",
      "- MAE : 4.2642 \n",
      "- RMSE : 5.3259 \n",
      "- R2: 0.8742 \n",
      "-----------------------------------\n",
      "MODEL PERFORMANCE FOR TEST SET\n",
      "- MAE : 4.2015 \n",
      "- RMSE : 5.3637 \n",
      "- R2: 0.8818 \n",
      "===================================\n",
      "\n",
      "\n",
      "Lasso\n",
      "MODEL PERFORMANCE FOR TRAINING SET\n",
      "- MAE : 5.2053 \n",
      "- RMSE : 6.5925 \n",
      "- R2: 0.8072 \n",
      "-----------------------------------\n",
      "MODEL PERFORMANCE FOR TEST SET\n",
      "- MAE : 5.1557 \n",
      "- RMSE : 6.5173 \n",
      "- R2: 0.8254 \n",
      "===================================\n",
      "\n",
      "\n",
      "Ridge\n",
      "MODEL PERFORMANCE FOR TRAINING SET\n",
      "- MAE : 4.2648 \n",
      "- RMSE : 5.3235 \n",
      "- R2: 0.8743 \n",
      "-----------------------------------\n",
      "MODEL PERFORMANCE FOR TEST SET\n",
      "- MAE : 4.2115 \n",
      "- RMSE : 5.3918 \n",
      "- R2: 0.8805 \n",
      "===================================\n",
      "\n",
      "\n",
      "KNN\n",
      "MODEL PERFORMANCE FOR TRAINING SET\n",
      "- MAE : 4.7310 \n",
      "- RMSE : 5.9474 \n",
      "- R2: 0.8431 \n",
      "-----------------------------------\n",
      "MODEL PERFORMANCE FOR TEST SET\n",
      "- MAE : 5.9880 \n",
      "- RMSE : 7.7063 \n",
      "- R2: 0.7560 \n",
      "===================================\n",
      "\n",
      "\n",
      "Decision Tree\n",
      "MODEL PERFORMANCE FOR TRAINING SET\n",
      "- MAE : 0.0187 \n",
      "- RMSE : 0.2795 \n",
      "- R2: 0.9997 \n",
      "-----------------------------------\n",
      "MODEL PERFORMANCE FOR TEST SET\n",
      "- MAE : 6.4850 \n",
      "- RMSE : 8.1581 \n",
      "- R2: 0.7265 \n",
      "===================================\n",
      "\n",
      "\n",
      "Random Forest\n",
      "MODEL PERFORMANCE FOR TRAINING SET\n",
      "- MAE : 1.8200 \n",
      "- RMSE : 2.2910 \n",
      "- R2: 0.9767 \n",
      "-----------------------------------\n",
      "MODEL PERFORMANCE FOR TEST SET\n",
      "- MAE : 4.6319 \n",
      "- RMSE : 5.9862 \n",
      "- R2: 0.8527 \n",
      "===================================\n",
      "\n",
      "\n",
      "XGB\n",
      "MODEL PERFORMANCE FOR TRAINING SET\n",
      "- MAE : 0.6875 \n",
      "- RMSE : 1.0073 \n",
      "- R2: 0.9955 \n",
      "-----------------------------------\n",
      "MODEL PERFORMANCE FOR TEST SET\n",
      "- MAE : 5.0577 \n",
      "- RMSE : 6.4733 \n",
      "- R2: 0.8278 \n",
      "===================================\n",
      "\n",
      "\n",
      "Catboost\n",
      "MODEL PERFORMANCE FOR TRAINING SET\n",
      "- MAE : 2.4008 \n",
      "- RMSE : 3.0499 \n",
      "- R2: 0.9587 \n",
      "-----------------------------------\n",
      "MODEL PERFORMANCE FOR TEST SET\n",
      "- MAE : 4.6346 \n",
      "- RMSE : 6.0330 \n",
      "- R2: 0.8504 \n",
      "===================================\n",
      "\n",
      "\n",
      "AdaBoost\n",
      "MODEL PERFORMANCE FOR TRAINING SET\n",
      "- MAE : 4.7909 \n",
      "- RMSE : 5.8599 \n",
      "- R2: 0.8477 \n",
      "-----------------------------------\n",
      "MODEL PERFORMANCE FOR TEST SET\n",
      "- MAE : 4.6838 \n",
      "- RMSE : 6.0430 \n",
      "- R2: 0.8499 \n",
      "===================================\n",
      "\n",
      "\n"
     ]
    }
   ],
   "source": [
    "#models to use\n",
    "\n",
    "models = { \n",
    " \"Linear Regression\":LinearRegression(),\n",
    " \"Lasso\": Lasso(),\n",
    " \"Ridge\": Ridge(),\n",
    " \"KNN\" : KNeighborsRegressor(),\n",
    " \"Decision Tree\": DecisionTreeRegressor(),\n",
    " \"Random Forest\": RandomForestRegressor(),\n",
    " \"XGB\":XGBRegressor(),\n",
    " \"Catboost\":CatBoostRegressor(verbose=False),\n",
    " \"AdaBoost\":AdaBoostRegressor()\n",
    "}\n",
    "\n",
    "model_list=[]\n",
    "r2_list=[]\n",
    "mae_list=[]\n",
    "rmse_list=[]\n",
    "\n",
    "\n",
    "for i in range(len(models)):\n",
    "    #train\n",
    "    model=list(models.values())[i]\n",
    "    model.fit(X_train_transformed,Y_train)\n",
    "    \n",
    "    #Predict\n",
    "    y_train_pred = model.predict(X_train_transformed)\n",
    "    y_test_pred  = model.predict(X_test_transformed) \n",
    "    \n",
    "    # Evaluate\n",
    "    train_mae,train_rmse,train_r2 = evaluate_model(Y_train,y_train_pred)\n",
    "    test_mae,test_rmse,test_r2 = evaluate_model(Y_test,y_test_pred)\n",
    "\n",
    "    print(list(models.keys())[i])\n",
    "    model_list.append(list(models.keys())[i])\n",
    "\n",
    "    print('MODEL PERFORMANCE FOR TRAINING SET')\n",
    "    print(\"- MAE : {:.4f} \".format(train_mae))\n",
    "    print(\"- RMSE : {:.4f} \".format(train_rmse))\n",
    "    print(\"- R2: {:.4f} \".format(train_r2))\n",
    "    print('-'*35) \n",
    "    print('MODEL PERFORMANCE FOR TEST SET')\n",
    "    print(\"- MAE : {:.4f} \".format(test_mae))\n",
    "    print(\"- RMSE : {:.4f} \".format(test_rmse))\n",
    "    print(\"- R2: {:.4f} \".format(test_r2))\n",
    "    \n",
    "    r2_list.append(test_r2)\n",
    "    mae_list.append(test_mae)\n",
    "    rmse_list.append(test_rmse)\n",
    "\n",
    "    print('='*35)\n",
    "    print('\\n')"
   ]
  },
  {
   "cell_type": "code",
   "execution_count": 197,
   "metadata": {},
   "outputs": [
    {
     "data": {
      "text/html": [
       "<div>\n",
       "<style scoped>\n",
       "    .dataframe tbody tr th:only-of-type {\n",
       "        vertical-align: middle;\n",
       "    }\n",
       "\n",
       "    .dataframe tbody tr th {\n",
       "        vertical-align: top;\n",
       "    }\n",
       "\n",
       "    .dataframe thead th {\n",
       "        text-align: right;\n",
       "    }\n",
       "</style>\n",
       "<table border=\"1\" class=\"dataframe\">\n",
       "  <thead>\n",
       "    <tr style=\"text-align: right;\">\n",
       "      <th></th>\n",
       "      <th>Model Name</th>\n",
       "      <th>R2_Score</th>\n",
       "      <th>MAE SCORE</th>\n",
       "      <th>RMSE SCORE</th>\n",
       "    </tr>\n",
       "  </thead>\n",
       "  <tbody>\n",
       "    <tr>\n",
       "      <th>0</th>\n",
       "      <td>Linear Regression</td>\n",
       "      <td>0.881771</td>\n",
       "      <td>4.201465</td>\n",
       "      <td>5.363726</td>\n",
       "    </tr>\n",
       "    <tr>\n",
       "      <th>2</th>\n",
       "      <td>Ridge</td>\n",
       "      <td>0.880533</td>\n",
       "      <td>4.211458</td>\n",
       "      <td>5.391753</td>\n",
       "    </tr>\n",
       "    <tr>\n",
       "      <th>5</th>\n",
       "      <td>Random Forest</td>\n",
       "      <td>0.852740</td>\n",
       "      <td>4.631918</td>\n",
       "      <td>5.986161</td>\n",
       "    </tr>\n",
       "    <tr>\n",
       "      <th>7</th>\n",
       "      <td>Catboost</td>\n",
       "      <td>0.850426</td>\n",
       "      <td>4.634613</td>\n",
       "      <td>6.033002</td>\n",
       "    </tr>\n",
       "    <tr>\n",
       "      <th>8</th>\n",
       "      <td>AdaBoost</td>\n",
       "      <td>0.849930</td>\n",
       "      <td>4.683838</td>\n",
       "      <td>6.042987</td>\n",
       "    </tr>\n",
       "    <tr>\n",
       "      <th>6</th>\n",
       "      <td>XGB</td>\n",
       "      <td>0.827797</td>\n",
       "      <td>5.057731</td>\n",
       "      <td>6.473307</td>\n",
       "    </tr>\n",
       "    <tr>\n",
       "      <th>1</th>\n",
       "      <td>Lasso</td>\n",
       "      <td>0.825446</td>\n",
       "      <td>5.155720</td>\n",
       "      <td>6.517347</td>\n",
       "    </tr>\n",
       "    <tr>\n",
       "      <th>3</th>\n",
       "      <td>KNN</td>\n",
       "      <td>0.755951</td>\n",
       "      <td>5.988000</td>\n",
       "      <td>7.706257</td>\n",
       "    </tr>\n",
       "    <tr>\n",
       "      <th>4</th>\n",
       "      <td>Decision Tree</td>\n",
       "      <td>0.726492</td>\n",
       "      <td>6.485000</td>\n",
       "      <td>8.158125</td>\n",
       "    </tr>\n",
       "  </tbody>\n",
       "</table>\n",
       "</div>"
      ],
      "text/plain": [
       "          Model Name  R2_Score  MAE SCORE  RMSE SCORE\n",
       "0  Linear Regression  0.881771   4.201465    5.363726\n",
       "2              Ridge  0.880533   4.211458    5.391753\n",
       "5      Random Forest  0.852740   4.631918    5.986161\n",
       "7           Catboost  0.850426   4.634613    6.033002\n",
       "8           AdaBoost  0.849930   4.683838    6.042987\n",
       "6                XGB  0.827797   5.057731    6.473307\n",
       "1              Lasso  0.825446   5.155720    6.517347\n",
       "3                KNN  0.755951   5.988000    7.706257\n",
       "4      Decision Tree  0.726492   6.485000    8.158125"
      ]
     },
     "execution_count": 197,
     "metadata": {},
     "output_type": "execute_result"
    }
   ],
   "source": [
    "pd.DataFrame(list(zip(model_list, r2_list,mae_list,rmse_list)), columns=['Model Name', 'R2_Score','MAE SCORE','RMSE SCORE']).sort_values(by=[\"MAE SCORE\"],ascending=True) #sorted by MAE least to max\n",
    "\n",
    "#best model by all metrics is Ridge regression"
   ]
  },
  {
   "cell_type": "code",
   "execution_count": 198,
   "metadata": {},
   "outputs": [],
   "source": [
    "alphas = 10**np.linspace(10,-2,100)*0.5\n"
   ]
  },
  {
   "cell_type": "code",
   "execution_count": 199,
   "metadata": {},
   "outputs": [
    {
     "data": {
      "text/plain": [
       "1.004616501282523"
      ]
     },
     "execution_count": 199,
     "metadata": {},
     "output_type": "execute_result"
    }
   ],
   "source": [
    "ridgecv = RidgeCV(alphas = alphas, scoring = 'neg_mean_squared_error')\n",
    "ridgecv.fit(X_train_transformed, Y_train)\n",
    "ridgecv.alpha_"
   ]
  },
  {
   "cell_type": "code",
   "execution_count": 202,
   "metadata": {},
   "outputs": [
    {
     "data": {
      "text/plain": [
       "4.211446095253431"
      ]
     },
     "execution_count": 202,
     "metadata": {},
     "output_type": "execute_result"
    }
   ],
   "source": [
    "from sklearn.metrics import PredictionErrorDisplay\n",
    "\n",
    "\n",
    "ridge_alpha_tuned= Ridge(alpha = ridgecv.alpha_)\n",
    "ridge_alpha_tuned.fit(X_train_transformed, Y_train)\n",
    "mean_absolute_error(Y_test,ridge_alpha_tuned.predict(X_test_transformed))"
   ]
  },
  {
   "cell_type": "code",
   "execution_count": 203,
   "metadata": {},
   "outputs": [
    {
     "data": {
      "text/html": [
       "<div>\n",
       "<style scoped>\n",
       "    .dataframe tbody tr th:only-of-type {\n",
       "        vertical-align: middle;\n",
       "    }\n",
       "\n",
       "    .dataframe tbody tr th {\n",
       "        vertical-align: top;\n",
       "    }\n",
       "\n",
       "    .dataframe thead th {\n",
       "        text-align: right;\n",
       "    }\n",
       "</style>\n",
       "<table border=\"1\" class=\"dataframe\">\n",
       "  <thead>\n",
       "    <tr style=\"text-align: right;\">\n",
       "      <th></th>\n",
       "      <th>FEATURES</th>\n",
       "      <th>COEFF</th>\n",
       "    </tr>\n",
       "  </thead>\n",
       "  <tbody>\n",
       "    <tr>\n",
       "      <th>9</th>\n",
       "      <td>OneHotEncoder__parental_level_of_education_mas...</td>\n",
       "      <td>-1.456450</td>\n",
       "    </tr>\n",
       "    <tr>\n",
       "      <th>3</th>\n",
       "      <td>OneHotEncoder__race_ethnicity_group C</td>\n",
       "      <td>-1.425096</td>\n",
       "    </tr>\n",
       "    <tr>\n",
       "      <th>4</th>\n",
       "      <td>OneHotEncoder__race_ethnicity_group D</td>\n",
       "      <td>-1.383572</td>\n",
       "    </tr>\n",
       "    <tr>\n",
       "      <th>1</th>\n",
       "      <td>OneHotEncoder__race_ethnicity_group A</td>\n",
       "      <td>-0.792073</td>\n",
       "    </tr>\n",
       "    <tr>\n",
       "      <th>7</th>\n",
       "      <td>OneHotEncoder__parental_level_of_education_bac...</td>\n",
       "      <td>-0.781595</td>\n",
       "    </tr>\n",
       "    <tr>\n",
       "      <th>2</th>\n",
       "      <td>OneHotEncoder__race_ethnicity_group B</td>\n",
       "      <td>-0.448747</td>\n",
       "    </tr>\n",
       "    <tr>\n",
       "      <th>6</th>\n",
       "      <td>OneHotEncoder__parental_level_of_education_ass...</td>\n",
       "      <td>-0.094223</td>\n",
       "    </tr>\n",
       "    <tr>\n",
       "      <th>11</th>\n",
       "      <td>OneHotEncoder__parental_level_of_education_som...</td>\n",
       "      <td>0.627598</td>\n",
       "    </tr>\n",
       "    <tr>\n",
       "      <th>8</th>\n",
       "      <td>OneHotEncoder__parental_level_of_education_hig...</td>\n",
       "      <td>0.806842</td>\n",
       "    </tr>\n",
       "    <tr>\n",
       "      <th>10</th>\n",
       "      <td>OneHotEncoder__parental_level_of_education_som...</td>\n",
       "      <td>0.897827</td>\n",
       "    </tr>\n",
       "    <tr>\n",
       "      <th>13</th>\n",
       "      <td>OneHotEncoder__test_preparation_course_none</td>\n",
       "      <td>3.215696</td>\n",
       "    </tr>\n",
       "    <tr>\n",
       "      <th>12</th>\n",
       "      <td>OneHotEncoder__lunch_standard</td>\n",
       "      <td>3.526555</td>\n",
       "    </tr>\n",
       "    <tr>\n",
       "      <th>14</th>\n",
       "      <td>StandardScaler__reading_score</td>\n",
       "      <td>3.579730</td>\n",
       "    </tr>\n",
       "    <tr>\n",
       "      <th>5</th>\n",
       "      <td>OneHotEncoder__race_ethnicity_group E</td>\n",
       "      <td>4.049488</td>\n",
       "    </tr>\n",
       "    <tr>\n",
       "      <th>15</th>\n",
       "      <td>StandardScaler__writing_score</td>\n",
       "      <td>10.707049</td>\n",
       "    </tr>\n",
       "    <tr>\n",
       "      <th>0</th>\n",
       "      <td>OneHotEncoder__gender_male</td>\n",
       "      <td>12.954945</td>\n",
       "    </tr>\n",
       "  </tbody>\n",
       "</table>\n",
       "</div>"
      ],
      "text/plain": [
       "                                             FEATURES      COEFF\n",
       "9   OneHotEncoder__parental_level_of_education_mas...  -1.456450\n",
       "3               OneHotEncoder__race_ethnicity_group C  -1.425096\n",
       "4               OneHotEncoder__race_ethnicity_group D  -1.383572\n",
       "1               OneHotEncoder__race_ethnicity_group A  -0.792073\n",
       "7   OneHotEncoder__parental_level_of_education_bac...  -0.781595\n",
       "2               OneHotEncoder__race_ethnicity_group B  -0.448747\n",
       "6   OneHotEncoder__parental_level_of_education_ass...  -0.094223\n",
       "11  OneHotEncoder__parental_level_of_education_som...   0.627598\n",
       "8   OneHotEncoder__parental_level_of_education_hig...   0.806842\n",
       "10  OneHotEncoder__parental_level_of_education_som...   0.897827\n",
       "13        OneHotEncoder__test_preparation_course_none   3.215696\n",
       "12                      OneHotEncoder__lunch_standard   3.526555\n",
       "14                      StandardScaler__reading_score   3.579730\n",
       "5               OneHotEncoder__race_ethnicity_group E   4.049488\n",
       "15                      StandardScaler__writing_score  10.707049\n",
       "0                          OneHotEncoder__gender_male  12.954945"
      ]
     },
     "execution_count": 203,
     "metadata": {},
     "output_type": "execute_result"
    }
   ],
   "source": [
    "\n",
    "\n",
    "#features after transformation and weights\n",
    "var_weights= pd.DataFrame(list(zip(list(preprocessor.get_feature_names_out()),ridge_alpha_tuned.coef_)),columns=['FEATURES','COEFF'])\n",
    "var_weights.sort_values(by='COEFF')"
   ]
  },
  {
   "cell_type": "code",
   "execution_count": null,
   "metadata": {},
   "outputs": [],
   "source": [
    "lin_model = LinearRegression(fit_intercept=True)\n",
    "\n",
    "lin_model.fit(X_train_transformed, Y_train)"
   ]
  },
  {
   "cell_type": "code",
   "execution_count": 214,
   "metadata": {},
   "outputs": [
    {
     "name": "stdout",
     "output_type": "stream",
     "text": [
      " Accuracy of the model is 88.05\n"
     ]
    }
   ],
   "source": [
    "y_pred_lin = lin_model.predict(X_test_transformed)\n",
    "score = r2_score(Y_test, y_pred)*100\n",
    "print(\" Accuracy of the model is %.2f\" %score)"
   ]
  },
  {
   "cell_type": "code",
   "execution_count": 215,
   "metadata": {},
   "outputs": [
    {
     "data": {
      "text/html": [
       "<div>\n",
       "<style scoped>\n",
       "    .dataframe tbody tr th:only-of-type {\n",
       "        vertical-align: middle;\n",
       "    }\n",
       "\n",
       "    .dataframe tbody tr th {\n",
       "        vertical-align: top;\n",
       "    }\n",
       "\n",
       "    .dataframe thead th {\n",
       "        text-align: right;\n",
       "    }\n",
       "</style>\n",
       "<table border=\"1\" class=\"dataframe\">\n",
       "  <thead>\n",
       "    <tr style=\"text-align: right;\">\n",
       "      <th></th>\n",
       "      <th>FEATURES</th>\n",
       "      <th>COEFF</th>\n",
       "    </tr>\n",
       "  </thead>\n",
       "  <tbody>\n",
       "    <tr>\n",
       "      <th>9</th>\n",
       "      <td>OneHotEncoder__parental_level_of_education_mas...</td>\n",
       "      <td>-4.673451e+13</td>\n",
       "    </tr>\n",
       "    <tr>\n",
       "      <th>7</th>\n",
       "      <td>OneHotEncoder__parental_level_of_education_bac...</td>\n",
       "      <td>-4.673451e+13</td>\n",
       "    </tr>\n",
       "    <tr>\n",
       "      <th>6</th>\n",
       "      <td>OneHotEncoder__parental_level_of_education_ass...</td>\n",
       "      <td>-4.673451e+13</td>\n",
       "    </tr>\n",
       "    <tr>\n",
       "      <th>11</th>\n",
       "      <td>OneHotEncoder__parental_level_of_education_som...</td>\n",
       "      <td>-4.673451e+13</td>\n",
       "    </tr>\n",
       "    <tr>\n",
       "      <th>8</th>\n",
       "      <td>OneHotEncoder__parental_level_of_education_hig...</td>\n",
       "      <td>-4.673451e+13</td>\n",
       "    </tr>\n",
       "    <tr>\n",
       "      <th>10</th>\n",
       "      <td>OneHotEncoder__parental_level_of_education_som...</td>\n",
       "      <td>-4.673451e+13</td>\n",
       "    </tr>\n",
       "    <tr>\n",
       "      <th>13</th>\n",
       "      <td>OneHotEncoder__test_preparation_course_none</td>\n",
       "      <td>3.298365e+00</td>\n",
       "    </tr>\n",
       "    <tr>\n",
       "      <th>14</th>\n",
       "      <td>StandardScaler__reading_score</td>\n",
       "      <td>3.422672e+00</td>\n",
       "    </tr>\n",
       "    <tr>\n",
       "      <th>12</th>\n",
       "      <td>OneHotEncoder__lunch_standard</td>\n",
       "      <td>3.504950e+00</td>\n",
       "    </tr>\n",
       "    <tr>\n",
       "      <th>15</th>\n",
       "      <td>StandardScaler__writing_score</td>\n",
       "      <td>1.089489e+01</td>\n",
       "    </tr>\n",
       "    <tr>\n",
       "      <th>0</th>\n",
       "      <td>OneHotEncoder__gender_male</td>\n",
       "      <td>1.307969e+01</td>\n",
       "    </tr>\n",
       "    <tr>\n",
       "      <th>4</th>\n",
       "      <td>OneHotEncoder__race_ethnicity_group D</td>\n",
       "      <td>2.430184e+13</td>\n",
       "    </tr>\n",
       "    <tr>\n",
       "      <th>3</th>\n",
       "      <td>OneHotEncoder__race_ethnicity_group C</td>\n",
       "      <td>2.430184e+13</td>\n",
       "    </tr>\n",
       "    <tr>\n",
       "      <th>1</th>\n",
       "      <td>OneHotEncoder__race_ethnicity_group A</td>\n",
       "      <td>2.430184e+13</td>\n",
       "    </tr>\n",
       "    <tr>\n",
       "      <th>2</th>\n",
       "      <td>OneHotEncoder__race_ethnicity_group B</td>\n",
       "      <td>2.430184e+13</td>\n",
       "    </tr>\n",
       "    <tr>\n",
       "      <th>5</th>\n",
       "      <td>OneHotEncoder__race_ethnicity_group E</td>\n",
       "      <td>2.430184e+13</td>\n",
       "    </tr>\n",
       "  </tbody>\n",
       "</table>\n",
       "</div>"
      ],
      "text/plain": [
       "                                             FEATURES         COEFF\n",
       "9   OneHotEncoder__parental_level_of_education_mas... -4.673451e+13\n",
       "7   OneHotEncoder__parental_level_of_education_bac... -4.673451e+13\n",
       "6   OneHotEncoder__parental_level_of_education_ass... -4.673451e+13\n",
       "11  OneHotEncoder__parental_level_of_education_som... -4.673451e+13\n",
       "8   OneHotEncoder__parental_level_of_education_hig... -4.673451e+13\n",
       "10  OneHotEncoder__parental_level_of_education_som... -4.673451e+13\n",
       "13        OneHotEncoder__test_preparation_course_none  3.298365e+00\n",
       "14                      StandardScaler__reading_score  3.422672e+00\n",
       "12                      OneHotEncoder__lunch_standard  3.504950e+00\n",
       "15                      StandardScaler__writing_score  1.089489e+01\n",
       "0                          OneHotEncoder__gender_male  1.307969e+01\n",
       "4               OneHotEncoder__race_ethnicity_group D  2.430184e+13\n",
       "3               OneHotEncoder__race_ethnicity_group C  2.430184e+13\n",
       "1               OneHotEncoder__race_ethnicity_group A  2.430184e+13\n",
       "2               OneHotEncoder__race_ethnicity_group B  2.430184e+13\n",
       "5               OneHotEncoder__race_ethnicity_group E  2.430184e+13"
      ]
     },
     "execution_count": 215,
     "metadata": {},
     "output_type": "execute_result"
    }
   ],
   "source": [
    "#features importance for lin reg model  \n",
    "var_weights= pd.DataFrame(list(zip(list(preprocessor.get_feature_names_out()),lin_model.coef_)),columns=['FEATURES','COEFF'])\n",
    "var_weights.sort_values(by='COEFF')"
   ]
  },
  {
   "cell_type": "code",
   "execution_count": 208,
   "metadata": {},
   "outputs": [
    {
     "data": {
      "image/png": "[encoded data removed]",
      "text/plain": [
       "<Figure size 640x480 with 1 Axes>"
      ]
     },
     "metadata": {},
     "output_type": "display_data"
    }
   ],
   "source": [
    "#scatter plot\n",
    "plt.scatter(Y_test,y_pred);\n",
    "plt.xlabel('Actual');\n",
    "plt.ylabel('Predicted');"
   ]
  },
  {
   "cell_type": "code",
   "execution_count": 209,
   "metadata": {},
   "outputs": [
    {
     "data": {
      "image/png": "[encoded data removed]",
      "text/plain": [
       "<Figure size 640x480 with 1 Axes>"
      ]
     },
     "metadata": {},
     "output_type": "display_data"
    }
   ],
   "source": [
    "sns.regplot(x=Y_test,y=y_pred,ci=None,color ='red');"
   ]
  },
  {
   "cell_type": "code",
   "execution_count": 210,
   "metadata": {},
   "outputs": [
    {
     "data": {
      "text/html": [
       "<div>\n",
       "<style scoped>\n",
       "    .dataframe tbody tr th:only-of-type {\n",
       "        vertical-align: middle;\n",
       "    }\n",
       "\n",
       "    .dataframe tbody tr th {\n",
       "        vertical-align: top;\n",
       "    }\n",
       "\n",
       "    .dataframe thead th {\n",
       "        text-align: right;\n",
       "    }\n",
       "</style>\n",
       "<table border=\"1\" class=\"dataframe\">\n",
       "  <thead>\n",
       "    <tr style=\"text-align: right;\">\n",
       "      <th></th>\n",
       "      <th>Actual Value</th>\n",
       "      <th>Predicted Value</th>\n",
       "      <th>Difference</th>\n",
       "    </tr>\n",
       "  </thead>\n",
       "  <tbody>\n",
       "    <tr>\n",
       "      <th>521</th>\n",
       "      <td>91</td>\n",
       "      <td>76.402456</td>\n",
       "      <td>14.597544</td>\n",
       "    </tr>\n",
       "    <tr>\n",
       "      <th>737</th>\n",
       "      <td>53</td>\n",
       "      <td>58.862515</td>\n",
       "      <td>-5.862515</td>\n",
       "    </tr>\n",
       "    <tr>\n",
       "      <th>740</th>\n",
       "      <td>80</td>\n",
       "      <td>76.969081</td>\n",
       "      <td>3.030919</td>\n",
       "    </tr>\n",
       "    <tr>\n",
       "      <th>660</th>\n",
       "      <td>74</td>\n",
       "      <td>76.781390</td>\n",
       "      <td>-2.781390</td>\n",
       "    </tr>\n",
       "    <tr>\n",
       "      <th>411</th>\n",
       "      <td>84</td>\n",
       "      <td>87.604016</td>\n",
       "      <td>-3.604016</td>\n",
       "    </tr>\n",
       "    <tr>\n",
       "      <th>...</th>\n",
       "      <td>...</td>\n",
       "      <td>...</td>\n",
       "      <td>...</td>\n",
       "    </tr>\n",
       "    <tr>\n",
       "      <th>408</th>\n",
       "      <td>52</td>\n",
       "      <td>43.533944</td>\n",
       "      <td>8.466056</td>\n",
       "    </tr>\n",
       "    <tr>\n",
       "      <th>332</th>\n",
       "      <td>62</td>\n",
       "      <td>62.169122</td>\n",
       "      <td>-0.169122</td>\n",
       "    </tr>\n",
       "    <tr>\n",
       "      <th>208</th>\n",
       "      <td>74</td>\n",
       "      <td>67.924181</td>\n",
       "      <td>6.075819</td>\n",
       "    </tr>\n",
       "    <tr>\n",
       "      <th>613</th>\n",
       "      <td>65</td>\n",
       "      <td>67.071160</td>\n",
       "      <td>-2.071160</td>\n",
       "    </tr>\n",
       "    <tr>\n",
       "      <th>78</th>\n",
       "      <td>61</td>\n",
       "      <td>62.455322</td>\n",
       "      <td>-1.455322</td>\n",
       "    </tr>\n",
       "  </tbody>\n",
       "</table>\n",
       "<p>200 rows × 3 columns</p>\n",
       "</div>"
      ],
      "text/plain": [
       "     Actual Value  Predicted Value  Difference\n",
       "521            91        76.402456   14.597544\n",
       "737            53        58.862515   -5.862515\n",
       "740            80        76.969081    3.030919\n",
       "660            74        76.781390   -2.781390\n",
       "411            84        87.604016   -3.604016\n",
       "..            ...              ...         ...\n",
       "408            52        43.533944    8.466056\n",
       "332            62        62.169122   -0.169122\n",
       "208            74        67.924181    6.075819\n",
       "613            65        67.071160   -2.071160\n",
       "78             61        62.455322   -1.455322\n",
       "\n",
       "[200 rows x 3 columns]"
      ]
     },
     "execution_count": 210,
     "metadata": {},
     "output_type": "execute_result"
    }
   ],
   "source": [
    "#diff \n",
    "pred_df=pd.DataFrame({'Actual Value':Y_test,'Predicted Value':y_pred,'Difference':Y_test-y_pred})\n",
    "pred_df"
   ]
  }
 ],
 "metadata": {
  "kernelspec": {
   "display_name": "Python 3",
   "language": "python",
   "name": "python3"
  },
  "language_info": {
   "codemirror_mode": {
    "name": "ipython",
    "version": 3
   },
   "file_extension": ".py",
   "mimetype": "text/x-python",
   "name": "python",
   "nbconvert_exporter": "python",
   "pygments_lexer": "ipython3",
   "version": "3.8.17"
  },
  "orig_nbformat": 4
 },
 "nbformat": 4,
 "nbformat_minor": 2
}
